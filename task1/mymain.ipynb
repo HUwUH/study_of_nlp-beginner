{
 "cells": [
  {
   "cell_type": "code",
   "execution_count": 1,
   "metadata": {},
   "outputs": [],
   "source": [
    "## 导入库和config\n",
    "import csv\n",
    "import random\n",
    "import numpy\n",
    "from utls import shuffle_and_split,Bag\n",
    "\n",
    "random.seed(42)\n",
    "numpy.random.seed(42)\n",
    "\n",
    "USE_PHRASE = False # 只使用句子还是也使用句子片段"
   ]
  },
  {
   "cell_type": "code",
   "execution_count": 2,
   "metadata": {},
   "outputs": [
    {
     "name": "stdout",
     "output_type": "stream",
     "text": [
      "[['PhraseId', 'SentenceId', 'Phrase', 'Sentiment'], ['1', '1', 'A series of escapades demonstrating the adage that what is good for the goose is also good for the gander , some of which occasionally amuses but none of which amounts to much of a story .', '1'], ['2', '1', 'A series of escapades demonstrating the adage that what is good for the goose', '2'], ['3', '1', 'A series', '2'], ['4', '1', 'A', '2']]\n",
      "[['156056', '8544', \"Hearst 's\", '2'], ['156057', '8544', 'forced avuncular chortles', '1'], ['156058', '8544', 'avuncular chortles', '3'], ['156059', '8544', 'avuncular', '2'], ['156060', '8544', 'chortles', '2']]\n",
      "['1', '1', 'A series of escapades demonstrating the adage that what is good for the goose is also good for the gander , some of which occasionally amuses but none of which amounts to much of a story .', '1']\n",
      "['64', '2', 'This quiet , introspective and entertaining independent is worth seeking .', '4']\n",
      "['82', '3', \"Even fans of Ismail Merchant 's work , I suspect , would have a hard time sitting through this one .\", '1']\n",
      "['117', '4', 'A positively thrilling combination of ethnography and all the intrigue , betrayal , deceit and murder of a Shakespearean tragedy or a juicy soap opera .', '3']\n",
      "['157', '5', 'Aggressive self-glorification and a manipulative whitewash .', '1']\n",
      "['1', 1, 'A series of escapades demonstrating the adage that what is good for the goose is also good for the gander , some of which occasionally amuses but none of which amounts to much of a story .', 1]\n",
      "['64', 2, 'This quiet , introspective and entertaining independent is worth seeking .', 4]\n",
      "['82', 3, \"Even fans of Ismail Merchant 's work , I suspect , would have a hard time sitting through this one .\", 1]\n",
      "['117', 4, 'A positively thrilling combination of ethnography and all the intrigue , betrayal , deceit and murder of a Shakespearean tragedy or a juicy soap opera .', 3]\n",
      "['157', 5, 'Aggressive self-glorification and a manipulative whitewash .', 1]\n"
     ]
    }
   ],
   "source": [
    "## 读取数据，并简单处理\n",
    "with open(r'.\\data\\train.tsv') as f:\n",
    "    tsvreader = csv.reader(f, delimiter='\\t')\n",
    "    temp = list(tsvreader)\n",
    "print(temp[:5])\n",
    "print(temp[-5:])\n",
    "\n",
    "data = temp[1:]\n",
    "if not USE_PHRASE:\n",
    "    data = [data[i] for i in range(len(data)) \n",
    "            if (i==0 or data[i][1]!=data[i-1][1]) ] \n",
    "print(*data[:5],sep='\\n')\n",
    "\n",
    "for i in range(len(data)):\n",
    "    data[i][1] = int(data[i][1])\n",
    "    data[i][3] = int(data[i][3])\n",
    "print(*data[:5],sep='\\n')    "
   ]
  },
  {
   "cell_type": "code",
   "execution_count": 3,
   "metadata": {},
   "outputs": [
    {
     "name": "stdout",
     "output_type": "stream",
     "text": [
      "6823 1706\n"
     ]
    }
   ],
   "source": [
    "## 使用词袋模型\n",
    "\n",
    "\n",
    "sentences = [idata[2] for idata in data]\n",
    "\n",
    "vocab = Bag(sentences)\n",
    "vocab.init_vocab()\n",
    "inputlen = vocab.get_vocab_len()"
   ]
  },
  {
   "cell_type": "code",
   "execution_count": null,
   "metadata": {},
   "outputs": [],
   "source": [
    "## 模型\n",
    "\n",
    "\n",
    "\n",
    "## dataloader\n",
    "train_rate = 0.8\n",
    "batch_size = 16\n",
    "\n",
    "train_data, valid_data = shuffle_and_split(data,TRAIN_RATE)\n",
    "print(len(train_data),len(valid_data))\n",
    "\n",
    "class dataloader(vocab,train_data,mode='train'):\n",
    "    if mode == 'train':"
   ]
  }
 ],
 "metadata": {
  "kernelspec": {
   "display_name": "yolo5use",
   "language": "python",
   "name": "python3"
  },
  "language_info": {
   "codemirror_mode": {
    "name": "ipython",
    "version": 3
   },
   "file_extension": ".py",
   "mimetype": "text/x-python",
   "name": "python",
   "nbconvert_exporter": "python",
   "pygments_lexer": "ipython3",
   "version": "3.9.20"
  }
 },
 "nbformat": 4,
 "nbformat_minor": 2
}
